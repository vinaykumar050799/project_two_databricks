{
 "cells": [
  {
   "cell_type": "code",
   "execution_count": 0,
   "metadata": {
    "application/vnd.databricks.v1+cell": {
     "cellMetadata": {
      "byteLimit": 2048000,
      "rowLimit": 10000
     },
     "inputWidgets": {},
     "nuid": "02d0764e-c3c3-4cbd-8ab4-a9599796b6d4",
     "showTitle": false,
     "tableResultSettingsMap": {},
     "title": ""
    }
   },
   "outputs": [],
   "source": [
    "class Config:\n",
    "  def __init__(self):\n",
    "    self.base_dir_data = spark.sql(\"DESCRIBE EXTERNAL LOCATION `data_zone`\").select(\"url\").collect()[0].url\n",
    "    self.base_dir_checkpoint = spark.sql(\"DESCRIBE EXTERNAL LOCATION `checkpoint`\").select(\"url\").collect()[0].url\n",
    "    # self.managed_location = \n",
    "    self.bronze_db_name = \"sbit_bronze_db\"\n",
    "    self.silver_db_name = \"sbit_silver_db\"\n",
    "    self.gold_db_name = \"sbit_gold_db\"\n",
    "    self.maxFilesPerTrigger = 1000  "
   ]
  }
 ],
 "metadata": {
  "application/vnd.databricks.v1+notebook": {
   "computePreferences": null,
   "dashboards": [],
   "environmentMetadata": {
    "base_environment": "",
    "environment_version": "2"
   },
   "inputWidgetPreferences": null,
   "language": "python",
   "notebookMetadata": {
    "pythonIndentUnit": 4
   },
   "notebookName": "01-config",
   "widgets": {}
  },
  "language_info": {
   "name": "python"
  }
 },
 "nbformat": 4,
 "nbformat_minor": 0
}
