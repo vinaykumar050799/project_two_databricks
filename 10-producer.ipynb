{
 "cells": [
  {
   "cell_type": "code",
   "execution_count": 0,
   "metadata": {
    "application/vnd.databricks.v1+cell": {
     "cellMetadata": {
      "byteLimit": 2048000,
      "rowLimit": 10000
     },
     "inputWidgets": {},
     "nuid": "6d5f809a-b455-4524-8004-66b25155160a",
     "showTitle": false,
     "tableResultSettingsMap": {},
     "title": ""
    }
   },
   "outputs": [],
   "source": [
    "%run ./01-config"
   ]
  },
  {
   "cell_type": "code",
   "execution_count": 0,
   "metadata": {
    "application/vnd.databricks.v1+cell": {
     "cellMetadata": {
      "byteLimit": 2048000,
      "rowLimit": 10000
     },
     "inputWidgets": {},
     "nuid": "2f73f6d2-aa10-4ac0-9c85-0b896a88c8a7",
     "showTitle": false,
     "tableResultSettingsMap": {},
     "title": ""
    }
   },
   "outputs": [],
   "source": [
    "class Producer():\n",
    "    def __init__(self):\n",
    "        conf = Config()\n",
    "        self.landing_zone = conf.base_dir_data + \"/raw/\"\n",
    "        self.test_data_zone = conf.base_dir_data + \"/test_data/\"\n",
    "    \n",
    "    def registered_users(self,setnum):\n",
    "        source_path = self.test_data_zone+f\"1-registered_users_{setnum}.csv\"\n",
    "        target_path = self.landing_zone+f\"registered_users/1-registered_users_{setnum}.csv\"\n",
    "        print(f\"producing {source_path}.....\",end='')\n",
    "        dbutils.fs.cp(source_path,target_path)\n",
    "        print(\"Done\")\n",
    "    \n",
    "    def user_info(self,setnum):\n",
    "        source_path = self.test_data_zone+f\"2-user_info_{setnum}.json\"\n",
    "        target_path = self.landing_zone+f\"kafka_multiplex/2-user_info_{setnum}.json\"\n",
    "        print(f\"producing {source_path}.....\",end='')\n",
    "        dbutils.fs.cp(source_path,target_path)\n",
    "        print(\"Done\")\n",
    "    \n",
    "    def bpm(self,setnum):\n",
    "        source_path = self.test_data_zone+f\"3-bpm_{setnum}.json\"\n",
    "        target_path = self.landing_zone+f\"kafka_multiplex/3-bpm_{setnum}.json\"\n",
    "        print(f\"producing {source_path}.....\",end='')\n",
    "        dbutils.fs.cp(source_path,target_path)\n",
    "        print(\"Done\")\n",
    "    \n",
    "    def workout(self,setnum):\n",
    "        source_path = self.test_data_zone+f\"4-workout_{setnum}.json\"\n",
    "        target_path = self.landing_zone+f\"kafka_multiplex/4-workout_{setnum}.json\"\n",
    "        print(f\"producing {source_path}.....\",end='')\n",
    "        dbutils.fs.cp(source_path,target_path)\n",
    "        print(\"Done\")\n",
    "        \n",
    "    def gym_logins(self,setnum):\n",
    "        source_path = self.test_data_zone+f\"5-gym_logins_{setnum}.csv\"\n",
    "        target_path = self.landing_zone+f\"gym_logins/5-gym_logins_{setnum}.csv\"\n",
    "        print(f\"producing {source_path}.....\",end='')\n",
    "        dbutils.fs.cp(source_path,target_path)\n",
    "        print(\"Done\")\n",
    "    \n",
    "    def produce_data(self,setnum):\n",
    "        import time\n",
    "        start = time.time()\n",
    "        print(f\"Producing data for set no : {setnum}\")\n",
    "        if setnum<=2:\n",
    "            self.registered_users(setnum)\n",
    "            self.user_info(setnum)\n",
    "            self.workout(setnum)\n",
    "            self.gym_logins(setnum)\n",
    "        if setnum<=10:\n",
    "            self.bpm(setnum)\n",
    "        print(f\"Test data set {setnum} produced in {int(time.time()) - start} seconds\")\n",
    "\n",
    "    def _validate_count(self,format,location,expected_count):\n",
    "        target = self.landing_zone+f\"{location}_*.{format}\"\n",
    "        actual_count = (spark.read.format(format)\n",
    "                        .option(\"header\",True)\n",
    "                        .load(target)).count()\n",
    "        assert actual_count==expected_count,f\"Expected {expected_count:,} records, found {actual_count:,} in {location}\"\n",
    "        print(f\"Found {actual_count:,} / Expected {expected_count:,} records: Success\")\n",
    "    \n",
    "\n",
    "    def validate(self, sets):\n",
    "        import time\n",
    "        start = int(time.time())\n",
    "        print(f\"\\nValidating test data {sets} sets...\")       \n",
    "        self._validate_count(\"csv\", \"registered_users/1-registered_users\", 5 if sets == 1 else 10)\n",
    "        self._validate_count(\"json\",\"kafka_multiplex/2-user_info\", 7 if sets == 1 else 13)\n",
    "        self._validate_count(\"json\",\"kafka_multiplex/3-bpm\", sets * 253801)\n",
    "        self._validate_count(\"json\",\"kafka_multiplex/4-workout\", 16 if sets == 1 else 32)  \n",
    "        self._validate_count(\"csv\", \"gym_logins/5-gym_logins\", 8 if sets == 1 else 16)\n",
    "        #print(f\"Test data validation completed in {int(time.time()) - start} seconds\")\n",
    "        \n"
   ]
  }
 ],
 "metadata": {
  "application/vnd.databricks.v1+notebook": {
   "computePreferences": null,
   "dashboards": [],
   "environmentMetadata": {
    "base_environment": "",
    "environment_version": "2"
   },
   "inputWidgetPreferences": null,
   "language": "python",
   "notebookMetadata": {
    "pythonIndentUnit": 4
   },
   "notebookName": "10-producer",
   "widgets": {}
  },
  "language_info": {
   "name": "python"
  }
 },
 "nbformat": 4,
 "nbformat_minor": 0
}
