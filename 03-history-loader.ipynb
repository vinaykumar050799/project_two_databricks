{
 "cells": [
  {
   "cell_type": "code",
   "execution_count": 0,
   "metadata": {
    "application/vnd.databricks.v1+cell": {
     "cellMetadata": {
      "byteLimit": 2048000,
      "rowLimit": 10000
     },
     "inputWidgets": {},
     "nuid": "e57d6da2-bb50-42e6-bb47-f09795f6c434",
     "showTitle": false,
     "tableResultSettingsMap": {},
     "title": ""
    }
   },
   "outputs": [],
   "source": [
    "%run ./01-config"
   ]
  },
  {
   "cell_type": "code",
   "execution_count": 0,
   "metadata": {
    "application/vnd.databricks.v1+cell": {
     "cellMetadata": {
      "byteLimit": 2048000,
      "rowLimit": 10000
     },
     "inputWidgets": {},
     "nuid": "d1289bbc-3714-4167-9c71-b79d0e4131fc",
     "showTitle": false,
     "tableResultSettingsMap": {},
     "title": ""
    }
   },
   "outputs": [],
   "source": [
    "class HistoryLoader():\n",
    "    def __init__(self,env):\n",
    "        config = Config()\n",
    "        self.silver_db = config.silver_db_name\n",
    "        self.base_data_dir = config.base_dir_data + \"/raw\"\n",
    "        self.base_data_dir_test = config.base_dir_data + \"/test\"\n",
    "        self.checkpoint_dir = config.base_dir_checkpoint\n",
    "        self.catalog = env\n",
    "\n",
    "\n",
    "    def load_data_lookup(self):\n",
    "        spark.sql(f\"\"\"INSERT OVERWRITE {self.catalog}.{self.silver_db}.date_lookup\n",
    "                  SELECT date,dayofmonth,dayofweek,dayofyear,month,week,year,week_part FROM json.`{self.base_data_dir_test}/6-date-lookup.json`\n",
    "                  \"\"\")\n",
    "\n",
    "    def history_loader(self):\n",
    "        self.load_data_lookup()\n",
    "    \t\n",
    "\n",
    "    def assert_count(self,table_name,expected_count):\n",
    "        actual_count = spark.read.table(f\"{self.catalog}.{self.silver_db}.{table_name}\").count()\n",
    "        print(f\"actual_count : {actual_count}\")\n",
    "        assert actual_count == expected_count, f\"Expected {expected_count} rows in {table_name}, found {actual_count}\"\n",
    "        print(f\"Expected {expected_count} rows in {table_name}, found {actual_count}\")\n",
    "\n",
    "    def validate(self):\n",
    "        self.assert_count(\"date_lookup\",365)\n"
   ]
  }
 ],
 "metadata": {
  "application/vnd.databricks.v1+notebook": {
   "computePreferences": null,
   "dashboards": [],
   "environmentMetadata": {
    "base_environment": "",
    "environment_version": "2"
   },
   "inputWidgetPreferences": null,
   "language": "python",
   "notebookMetadata": {
    "pythonIndentUnit": 4
   },
   "notebookName": "03-history-loader",
   "widgets": {}
  },
  "language_info": {
   "name": "python"
  }
 },
 "nbformat": 4,
 "nbformat_minor": 0
}
